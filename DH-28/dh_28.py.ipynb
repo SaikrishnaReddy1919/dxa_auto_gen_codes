{
    "cells": [
        {
            "cell_type": "code",
            "execution_count": null,
            "metadata": {},
            "outputs": [],
            "source": [
                "# Databricks notebook source\n# MAGIC %md\n# MAGIC # ETL Process for Football Data\n# MAGIC This notebook performs an ETL process on football data using PySpark and integrates data from a PostgreSQL database.\n\n# COMMAND ----------\n\nimport logging\nfrom pyspark.sql import SparkSession\nfrom pyspark.sql.functions import col, when\nimport psycopg2\nfrom psycopg2 import sql\n\n# Initialize logging\nlogging.basicConfig(level=logging.INFO)\nlogger = logging.getLogger(__name__)\n\n# COMMAND ----------\n\n# Function to load data from Unity Catalog\ndef load_data_from_unity_catalog(table_name):\n    try:\n        logger.info(f\"Loading data from Unity Catalog table: {table_name}\")\n        df = spark.table(table_name)\n        return df\n    except Exception as e:\n        logger.error(f\"Error loading data from Unity Catalog table {table_name}: {e}\")\n        raise\n\n# COMMAND ----------\n\n# Function to connect to an external PostgreSQL database and fetch data\ndef fetch_data_from_postgresql(query, db_name, user, password, host, port):\n    try:\n        logger.info(f\"Connecting to PostgreSQL database: {db_name}\")\n        conn = psycopg2.connect(dbname=db_name, user=user, password=password, host=host, port=port)\n        cur = conn.cursor()\n        cur.execute(query)\n        data = cur.fetchall()\n        cur.close()\n        conn.close()\n        return data\n    except Exception as e:\n        logger.error(f\"Error fetching data from PostgreSQL: {e}\")\n        raise\n\n# COMMAND ----------\n\n# Load data from Unity Catalog\nsource_df = load_data_from_unity_catalog(\"catalog.source_db.football_data\")\n\n# COMMAND ----------\n\n# Data Cleaning: Handle missing values and remove duplicates\ntry:\n    logger.info(\"Cleaning data: handling missing values and removing duplicates\")\n    cleaned_df = source_df.dropna().dropDuplicates()\nexcept Exception as e:\n    logger.error(f\"Error during data cleaning: {e}\")\n    raise\n\n# COMMAND ----------\n\n# Data Transformation: Apply necessary transformations\ntry:\n    logger.info(\"Applying data transformations\")\n    transformed_df = cleaned_df.withColumn(\"goals\", col(\"goals\").cast(\"integer\"))\nexcept Exception as e:\n    logger.error(f\"Error during data transformation: {e}\")\n    raise\n\n# COMMAND ----------\n\n# Data Integration: Join with another dataset (assuming another_df is available)\ntry:\n    logger.info(\"Joining datasets for data integration\")\n    other_df = load_data_from_unity_catalog(\"catalog.source_db.other_football_data\")\n    final_df = transformed_df.join(other_df, transformed_df[\"team_id\"] == other_df[\"team_id\"])\nexcept Exception as e:\n    logger.error(f\"Error during data integration: {e}\")\n    raise\n\n# COMMAND ----------\n\n# Custom Calculations: Calculate performance score\ntry:\n    logger.info(\"Calculating custom performance score\")\n    final_df = final_df.withColumn(\"performance_score\", col(\"goals\") * 0.5 + col(\"assists\") * 0.3)\nexcept Exception as e:\n    logger.error(f\"Error during custom calculations: {e}\")\n    raise\n\n# COMMAND ----------\n\n# Output: Save the transformed data to Unity Catalog\ntry:\n    logger.info(\"Saving transformed data to Unity Catalog\")\n    final_df.write.format(\"delta\").mode(\"overwrite\").saveAsTable(\"catalog.target_db.football_analysis\")\nexcept Exception as e:\n    logger.error(f\"Error saving data to Unity Catalog: {e}\")\n    raise\n\n# COMMAND ----------\n\nlogger.info(\"ETL process completed successfully\")\n"
            ]
        }
    ],
    "metadata": {
        "kernelspec": {
            "display_name": "Python 3",
            "language": "python",
            "name": "python3"
        },
        "language_info": {
            "codemirror_mode": {
                "name": "ipython",
                "version": 3
            },
            "file_extension": ".py",
            "mimetype": "text/x-python",
            "name": "python",
            "nbconvert_exporter": "python",
            "pygments_lexer": "ipython3",
            "version": "3.x"
        }
    },
    "nbformat": 4,
    "nbformat_minor": 5
}